{
  "cells": [
    {
      "cell_type": "markdown",
      "metadata": {
        "id": "5jdOo8mT_eeb"
      },
      "source": [
        "<!--\n",
        "# Devoir maison I : Programmation avec Python\n",
        "-->\n",
        "\n",
        "<center>\n",
        "    <h1>Devoir maison I : Programmation avec Python</h1>\n",
        "</center>\n",
        "\n",
        "<center style='padding: 30px'>\n",
        "    Télécharger ce document au format\n",
        "    <a href=\"HW1.html\" download>HTML</a> ou\n",
        "        <a href=\"HW1.ipynb\" download>Jupyter</a>.\n",
        "</center>\n",
        "\n",
        "**NOM :**    *HAMADI*       <br />\n",
        "**PRÉNOM :** *RIZIK*\n",
        "\n",
        "**INSTRUCTIONS.** <span style='color: red'>Merci de les lire attentivement.</span>\n",
        "\n",
        "* Toutes les fonctions demandées doivent comporter une *docstring*.\n",
        "\n",
        "  L’énoncé précisera pour chaque fonction si l’on souhaite une documentation en une ligne ou la documentation complète.\n",
        "\n",
        "* Lorsque les questions ne demandent pas de code, vous donnerez la réponse dans une cellule de texte.\n",
        "\n",
        "* Chaque question doit faire l’objet d’une ou plusieurs nouvelles cellules de texte ou de code.\n",
        "\n",
        "* Certaines questions supposent que l’on ait répondu à une ou plusieurs questions précédentes. Si toutefois vous êtes bloqué.e sur une question, vous pouvez supposer que la fonction nécessaire est implémentée et l’utiliser pour écrire votre code.\n",
        "\n",
        "* L'utilisation des IA génératives est formellement interdite.\n",
        "\n",
        "**CONSEILS.** <span style='color: red'>Merci de les lire attentivement.</span>\n",
        "\n",
        "* Il s’agit aussi d’un exercice de communication: votre document doit permettre à un.e lecteur.ice\n",
        "  autre que vous-même de comprendre aisément votre démarche donc incluez autant de cellules de texte que nécessaire (tout en restant concis).\n",
        "\n",
        "* Pour que votre code soit plus facile à écrire pour vous et à comprendre pour nous, accordez également beaucoup d’importance aux noms de vos variables. Il sera question de cartes. Aussi, si votre variable est une carte, appelez-la `card`, par exemple, plutôt que `x` ou `i` ou `item`.\n",
        "\n",
        "* Il y a presque toujours de nombreuses manières possibles de résoudre un problème. Attachez-vous à écrire le code le plus lisible, le plus simple, le plus concis possible."
      ]
    },
    {
      "cell_type": "markdown",
      "metadata": {
        "id": "ApSqPU65_eej"
      },
      "source": [
        "## Partie 1 : jeux de cartes\n",
        "\n",
        "On veut simuler un jeu de 52 cartes.\n",
        "Dans ce jeu, il y a :\n",
        "\n",
        "* quatre couleurs ou enseignes (*suits*): trèfle, carreau, cœur, pique;\n",
        "* treize rangs ou hauteurs (*values*) : As, 2, 3, 4, 5, 6, 7, 8, 9, 10, valet, dame, roi.\n",
        "\n",
        "![pasted image 0 copy.png](attachment:d709fd9d-006e-4dd5-8c36-9fa9220022f4.png)\n",
        "\n",
        "Nous représenterons les cartes par un set de tuples où chaque tuple est constitué du couple rang-couleur, donc de la forme `(value, suit)`.\n",
        "\n",
        "* Les couleurs seront représentées par une chaîne de caractères de votre choix. Par exemple, vous pourriez choisir l'une des propositions suivantes:\n",
        "\n",
        "```Python\n",
        "suits = ['trèfle', 'carreau',  'cœur',   'pique']\n",
        "suits = ['clubs',  'diamonds', 'hearts', 'spades']\n",
        "suits = ['♣',      '♦',        '♥',      '♠']\n",
        "```\n",
        "* Les rangs par un entier de 1 (as) à 13 (roi).\n",
        "\n",
        "Exemples: `(3, '♥')` pourra représenter le 3 de cœur et `(11, '♦')` pourra représenter le valet de carreau."
      ]
    },
    {
      "cell_type": "markdown",
      "metadata": {
        "id": "BqOJ7V-j_eek"
      },
      "source": [
        "**QUESTION 1.** Quel tuple représente **(1)** le 8 de cœur ? **(2)** le 6 de pique ? **(3)** la dame de trèfle ?"
      ]
    },
    {
      "cell_type": "code",
      "execution_count": null,
      "metadata": {
        "id": "U-ibAl9O_eel"
      },
      "outputs": [],
      "source": [
        "example1 = (8, 'cœur')"
      ]
    },
    {
      "cell_type": "code",
      "execution_count": null,
      "metadata": {
        "id": "30PLM1qH_eeo"
      },
      "outputs": [],
      "source": [
        "example2 = (6, 'pique')"
      ]
    },
    {
      "cell_type": "code",
      "execution_count": null,
      "metadata": {
        "id": "EM-UqTFB_eeo"
      },
      "outputs": [],
      "source": [
        "example3 = (12, 'pique')"
      ]
    },
    {
      "cell_type": "markdown",
      "metadata": {
        "id": "nJUr-YAt_eep"
      },
      "source": [
        "**QUESTION 2.** Écrivez une fonction `card_deck()` qui ne prend aucun argument en entrée et renvoie un objet contenant les 52 tuples représentant un jeu de cartes\n",
        "\n",
        "```python\n",
        "deck = card_deck()\n",
        "```\n",
        "\n",
        "1. Les cartes doivent être triées comme dans l'image ci-dessus : l’as de trèfle doit être la première carte, suivie du 2 de trèfle, etc., jusqu'au roi de pique.\n",
        "\n",
        "2. Justifiez le choix des types de données utilisés.\n",
        "\n",
        "3. Vous documenterez cette fonction complètement."
      ]
    },
    {
      "cell_type": "code",
      "execution_count": null,
      "metadata": {
        "id": "MTyEiDMo_eep",
        "outputId": "2c352356-c49e-444d-e7ad-94cc547b23f1"
      },
      "outputs": [
        {
          "name": "stdout",
          "output_type": "stream",
          "text": [
            "[(1, 'trèfle'), (2, 'trèfle'), (3, 'trèfle'), (4, 'trèfle'), (5, 'trèfle'), (6, 'trèfle'), (7, 'trèfle'), (8, 'trèfle'), (9, 'trèfle'), (10, 'trèfle'), (11, 'trèfle'), (12, 'trèfle'), (13, 'trèfle'), (1, 'carreau'), (2, 'carreau'), (3, 'carreau'), (4, 'carreau'), (5, 'carreau'), (6, 'carreau'), (7, 'carreau'), (8, 'carreau'), (9, 'carreau'), (10, 'carreau'), (11, 'carreau'), (12, 'carreau'), (13, 'carreau'), (1, 'cœur'), (2, 'cœur'), (3, 'cœur'), (4, 'cœur'), (5, 'cœur'), (6, 'cœur'), (7, 'cœur'), (8, 'cœur'), (9, 'cœur'), (10, 'cœur'), (11, 'cœur'), (12, 'cœur'), (13, 'cœur'), (1, 'pique'), (2, 'pique'), (3, 'pique'), (4, 'pique'), (5, 'pique'), (6, 'pique'), (7, 'pique'), (8, 'pique'), (9, 'pique'), (10, 'pique'), (11, 'pique'), (12, 'pique'), (13, 'pique')]\n"
          ]
        }
      ],
      "source": [
        "suits = ['trèfle', 'carreau',  'cœur',   'pique']\n",
        "#suits = ['clubs',  'diamonds', 'hearts', 'spades']\n",
        "numbers = [1,2,3,4,5,6,7,8,9,10,11,12,13]\n",
        "deck = []\n",
        "\n",
        "def card_deck():\n",
        "    #car on trie via les symboles: on boucle sur chaque symbole pour toutes les valeurs\n",
        "    for suit in suits:\n",
        "     for number in  numbers:\n",
        "        deck.append((number, suit))\n",
        "    return deck\n",
        "\n",
        "deck2 = card_deck()\n",
        "print(deck2)"
      ]
    },
    {
      "cell_type": "markdown",
      "metadata": {
        "id": "oApRBbOF_eeq"
      },
      "source": [
        "**QUESTION 3.** Ecrivez une fonction `random_card()` qui prend en argument le jeu de cartes et qui renvoie une carte choisie au hasard et le jeu de carte restant de sorte à ce que l'appel puisse se faire de la façon suivante:\n",
        "\n",
        "```python\n",
        "card, remainder = random_card(deck)\n",
        "```\n",
        "\n",
        "1. On utilisera pour cela le module `random`.\n",
        "\n",
        "2. L'argument — `deck` dans l'exemple ci-dessus — lui-même n'est pas modifié.\n",
        "\n",
        "3. La documentation de cette fonction pourra se faire en une seule ligne."
      ]
    },
    {
      "cell_type": "code",
      "execution_count": null,
      "metadata": {
        "id": "Hk1y3tHE_eer",
        "outputId": "9262fec2-c36c-445e-d87f-f57c439eef79"
      },
      "outputs": [
        {
          "name": "stdout",
          "output_type": "stream",
          "text": [
            "(8, 'pique') [(1, 'trèfle'), (2, 'trèfle'), (3, 'trèfle'), (4, 'trèfle'), (5, 'trèfle'), (6, 'trèfle'), (7, 'trèfle'), (8, 'trèfle'), (9, 'trèfle'), (10, 'trèfle'), (11, 'trèfle'), (12, 'trèfle'), (13, 'trèfle'), (1, 'carreau'), (2, 'carreau'), (3, 'carreau'), (4, 'carreau'), (5, 'carreau'), (6, 'carreau'), (7, 'carreau'), (8, 'carreau'), (9, 'carreau'), (10, 'carreau'), (11, 'carreau'), (12, 'carreau'), (13, 'carreau'), (1, 'cœur'), (2, 'cœur'), (3, 'cœur'), (4, 'cœur'), (5, 'cœur'), (6, 'cœur'), (7, 'cœur'), (8, 'cœur'), (9, 'cœur'), (10, 'cœur'), (11, 'cœur'), (12, 'cœur'), (13, 'cœur'), (1, 'pique'), (2, 'pique'), (3, 'pique'), (4, 'pique'), (5, 'pique'), (6, 'pique'), (7, 'pique'), (9, 'pique'), (10, 'pique'), (11, 'pique'), (12, 'pique'), (13, 'pique')]\n"
          ]
        }
      ],
      "source": [
        "#importer la librairie ramdon afin d'importer la methode choice()\n",
        "import random\n",
        "\n",
        "remainder = []\n",
        "#la méthode choice() permet de selectionner au hasard un element parmi toute la liste\n",
        "def random_card(deck2):\n",
        "    card = random.choice(deck2)\n",
        "    #boucle sur le jeu de cartes\n",
        "    for c in deck2:\n",
        "     # si la carte du jeu est différente que la carte choisit par la methode choice() sinon ne pas l'inclure dans la liste remainder\n",
        "     # operator python is_not verifie si deux objects sont distincts :https://docs.python.org/fr/3.13/library/operator.html\n",
        "     if c is not card:\n",
        "         remainder.append(c)\n",
        "    return card, remainder\n",
        "\n",
        "card, remainder2 = random_card(deck2)\n",
        "print(card, remainder2)"
      ]
    },
    {
      "cell_type": "markdown",
      "metadata": {
        "id": "IF-41vp5_ees"
      },
      "source": [
        "**QUESTION 4.** Ecrivez maintenant une fonction `random_cards()` qui prend en argument le jeu de cartes et un entier $n$ entre 1 et 52 et renvoie $n$ cartes prises au hasard, et le jeu de carte restant de sorte à ce que l'appel puisse se faire de la façon suivante:\n",
        "\n",
        "```python\n",
        "cards, remainder = random_cards(deck)\n",
        "```\n",
        "\n",
        "1. Les cartes doivent toutes être distinctes, il s'agit d'un tirage *sans remise*.\n",
        "\n",
        "2. L'ordre dans lequel les cartes sont tirées est important.\n",
        "\n",
        "3. L'argument — deck dans l'exemple ci-dessus — lui-même n'est pas modifié.\n",
        "\n",
        "4. Indication: on pourra utiliser l'une des fonctions `random.choices()`, `random.sample()` ou `random.shuffle()`. Ces [fonctions sont bien évidemment documentées](https://docs.python.org/fr/3/library/random.html#functions-for-sequences).\n",
        "\n",
        "5. La documentation docstring de cette fonction doit être complète."
      ]
    },
    {
      "cell_type": "code",
      "execution_count": null,
      "metadata": {
        "id": "qD3xG7Mv_ees",
        "outputId": "1b56596d-315e-405b-ea8a-30263697c6ad"
      },
      "outputs": [
        {
          "name": "stdout",
          "output_type": "stream",
          "text": [
            "([(8, 'trèfle'), (8, 'carreau')], [(1, 'trèfle'), (2, 'trèfle'), (3, 'trèfle'), (4, 'trèfle'), (5, 'trèfle'), (6, 'trèfle'), (7, 'trèfle'), (9, 'trèfle'), (10, 'trèfle'), (11, 'trèfle'), (12, 'trèfle'), (13, 'trèfle'), (1, 'carreau'), (2, 'carreau'), (3, 'carreau'), (4, 'carreau'), (5, 'carreau'), (6, 'carreau'), (7, 'carreau'), (9, 'carreau'), (10, 'carreau'), (11, 'carreau'), (12, 'carreau'), (13, 'carreau'), (1, 'cœur'), (2, 'cœur'), (3, 'cœur'), (4, 'cœur'), (5, 'cœur'), (6, 'cœur'), (7, 'cœur'), (8, 'cœur'), (9, 'cœur'), (10, 'cœur'), (11, 'cœur'), (12, 'cœur'), (13, 'cœur'), (1, 'pique'), (2, 'pique'), (3, 'pique'), (4, 'pique'), (5, 'pique'), (6, 'pique'), (7, 'pique'), (8, 'pique'), (9, 'pique'), (10, 'pique'), (11, 'pique'), (12, 'pique'), (13, 'pique')]) [(1, 'trèfle'), (2, 'trèfle'), (3, 'trèfle'), (4, 'trèfle'), (5, 'trèfle'), (6, 'trèfle'), (7, 'trèfle'), (9, 'trèfle'), (10, 'trèfle'), (11, 'trèfle'), (12, 'trèfle'), (13, 'trèfle'), (1, 'carreau'), (2, 'carreau'), (3, 'carreau'), (4, 'carreau'), (5, 'carreau'), (6, 'carreau'), (7, 'carreau'), (9, 'carreau'), (10, 'carreau'), (11, 'carreau'), (12, 'carreau'), (13, 'carreau'), (1, 'cœur'), (2, 'cœur'), (3, 'cœur'), (4, 'cœur'), (5, 'cœur'), (6, 'cœur'), (7, 'cœur'), (8, 'cœur'), (9, 'cœur'), (10, 'cœur'), (11, 'cœur'), (12, 'cœur'), (13, 'cœur'), (1, 'pique'), (2, 'pique'), (3, 'pique'), (4, 'pique'), (5, 'pique'), (6, 'pique'), (7, 'pique'), (8, 'pique'), (9, 'pique'), (10, 'pique'), (11, 'pique'), (12, 'pique'), (13, 'pique')]\n"
          ]
        }
      ],
      "source": [
        "import random\n",
        "\n",
        "remainder = []\n",
        "\n",
        "def random_cards(n):\n",
        "    #tant que n qui représente cartes prises au hasard parmi le jeu de cartes (n doit etre inferieur au nombres de cartes disponible\n",
        "    #entre 1 et 52)\n",
        "    if not (1 <= n and n <= len(deck2)):\n",
        "        #dans la (Built-in Exceptions) classe Exception pour gérer les différrents types d'erreur: TypeError, NameError etc...\n",
        "        #ValueError pour les erreurs de valeurs lien:: https://docs.python.org/3/tutorial/errors.html#raising-exceptions  8.4. Raising Exceptions¶\n",
        "        raise ValueError(\"Erreur n plus grand que la totalité des cartes présent dans le jeu de cartes.\")\n",
        "    #random.shuffle(x) mélange la séquence en locurrence la list, random.choices() avec remise,\n",
        "    #random.sample(x) sans remise de:  \"Used for random sampling without replacement.\" https://docs.python.org/3.13/library/random.html#functions-for-sequences\n",
        "    cards = random.sample(deck2, k=n)\n",
        "\n",
        "    for c in deck2:\n",
        "        if c not in cards:\n",
        "         remainder.append(c);\n",
        "    return cards, remainder\n",
        "\n",
        "cards2 = random_cards(2)\n",
        "print(cards2, remainder)"
      ]
    },
    {
      "cell_type": "markdown",
      "metadata": {
        "id": "QVm3IBjo_eet"
      },
      "source": [
        "**QUESTION 5a.** À partir d'une liste de cartes `cards`, obtenir une variable `face_cards` contenant uniquement les valets, les dames et les rois."
      ]
    },
    {
      "cell_type": "code",
      "execution_count": null,
      "metadata": {
        "id": "Pj5HPqqL_eet",
        "outputId": "47e2b8b1-4620-49e3-c954-904dcb270053"
      },
      "outputs": [
        {
          "name": "stdout",
          "output_type": "stream",
          "text": [
            "[(11, 'trèfle'), (12, 'trèfle'), (13, 'trèfle'), (11, 'carreau'), (12, 'carreau'), (13, 'carreau'), (11, 'cœur'), (12, 'cœur'), (13, 'cœur'), (11, 'pique'), (12, 'pique'), (13, 'pique')]\n"
          ]
        }
      ],
      "source": [
        "remainder = []\n",
        "def face_Cards(deck2):\n",
        "    contains = [11, 12, 13]\n",
        "    #pour chaque carte dans le jeu de cartes\n",
        "    for c in deck2:\n",
        "        #valeur premiere position de chaque tuple qui represente les valeurs\n",
        "        if c[0] in contains:\n",
        "            remainder.append(c);\n",
        "    return remainder;\n",
        "\n",
        "face_cards = face_Cards(deck2)\n",
        "print(face_cards)"
      ]
    },
    {
      "cell_type": "markdown",
      "metadata": {
        "id": "l2PR4_0E_eeu"
      },
      "source": [
        "**QUESTION 5b.** À partir d'une liste de cartes `cards`, obtenir une variable `hearts` contenant uniquement les cœurs."
      ]
    },
    {
      "cell_type": "code",
      "execution_count": null,
      "metadata": {
        "id": "Up9alw3x_eev",
        "outputId": "5f0d0075-a645-41ba-cdca-dafce4f5e58a"
      },
      "outputs": [
        {
          "name": "stdout",
          "output_type": "stream",
          "text": [
            "[(1, 'cœur'), (2, 'cœur'), (3, 'cœur'), (4, 'cœur'), (5, 'cœur'), (6, 'cœur'), (7, 'cœur'), (8, 'cœur'), (9, 'cœur'), (10, 'cœur'), (11, 'cœur'), (12, 'cœur'), (13, 'cœur')]\n"
          ]
        }
      ],
      "source": [
        "remainder = []\n",
        "def face_Cards(deck2):\n",
        "    #chaque tuple avec la string 'cœur'\n",
        "    contains = 'cœur'\n",
        "    for c in deck2:\n",
        "        #pour chaque tuple(représentant chaque carte du jeu de cartes): le second element du tuple doit être un coeur\n",
        "        if c[1] in contains:\n",
        "            remainder.append(c);\n",
        "    return remainder;\n",
        "\n",
        "face_cards = face_Cards(deck2)\n",
        "print(face_cards)"
      ]
    },
    {
      "cell_type": "markdown",
      "metadata": {
        "id": "H0pyitnV_eev"
      },
      "source": [
        "**QUESTION 5c.** À partir d'une liste de cartes `cards`, obtenir une variable `shuffled` contenant les mêmes cartes re-mélangées."
      ]
    },
    {
      "cell_type": "code",
      "execution_count": null,
      "metadata": {
        "id": "I9MAXd10_eew",
        "outputId": "aec8cd0e-03e5-4be0-fd32-bada2a516a04"
      },
      "outputs": [
        {
          "name": "stdout",
          "output_type": "stream",
          "text": [
            "[(2, 'carreau'), (11, 'cœur'), (8, 'cœur'), (13, 'cœur'), (12, 'carreau'), (5, 'carreau'), (11, 'trèfle'), (10, 'pique'), (8, 'trèfle'), (10, 'cœur'), (1, 'carreau'), (9, 'pique'), (4, 'carreau'), (9, 'carreau'), (5, 'cœur'), (10, 'carreau'), (5, 'trèfle'), (3, 'pique'), (12, 'cœur'), (2, 'pique'), (12, 'pique'), (3, 'cœur'), (7, 'carreau'), (2, 'cœur'), (13, 'carreau'), (7, 'trèfle'), (11, 'carreau'), (6, 'cœur'), (8, 'pique'), (6, 'pique'), (9, 'trèfle'), (1, 'trèfle'), (4, 'pique'), (9, 'cœur'), (8, 'carreau'), (10, 'trèfle'), (3, 'trèfle'), (12, 'trèfle'), (3, 'carreau'), (7, 'cœur'), (11, 'pique'), (4, 'cœur'), (7, 'pique'), (6, 'carreau'), (13, 'trèfle'), (1, 'pique'), (5, 'pique'), (1, 'cœur'), (4, 'trèfle'), (6, 'trèfle'), (2, 'trèfle'), (13, 'pique')]\n"
          ]
        }
      ],
      "source": [
        "import random\n",
        "\n",
        "def shuffled_cards(deck2):\n",
        "    cards = random.sample(deck2, len(deck2))\n",
        "    return cards\n",
        "\n",
        "cards = shuffled_cards(deck2)\n",
        "print(cards)"
      ]
    },
    {
      "cell_type": "markdown",
      "metadata": {
        "id": "6bl32NpR_eew"
      },
      "source": [
        "**QUESTION 5d.** À partir d'une liste de cartes `cards`, obtenir une variable `sorted` contenant les mêmes triées selon ce critère : du plus grand au plus petit, et à hauteur égale, selon la couleur : trèfle, carreau, coeur, pique."
      ]
    },
    {
      "cell_type": "code",
      "execution_count": null,
      "metadata": {
        "id": "53EROFIj_eex",
        "outputId": "8eb66908-bbdc-4a1e-9e5e-71001ad87aec"
      },
      "outputs": [
        {
          "name": "stdout",
          "output_type": "stream",
          "text": [
            "[(13, 'trèfle'), (13, 'carreau'), (13, 'cœur'), (13, 'pique'), (12, 'trèfle'), (12, 'carreau'), (12, 'cœur'), (12, 'pique'), (11, 'trèfle'), (11, 'carreau'), (11, 'cœur'), (11, 'pique'), (10, 'trèfle'), (10, 'carreau'), (10, 'cœur'), (10, 'pique'), (9, 'trèfle'), (9, 'carreau'), (9, 'cœur'), (9, 'pique'), (8, 'trèfle'), (8, 'carreau'), (8, 'cœur'), (8, 'pique'), (7, 'trèfle'), (7, 'carreau'), (7, 'cœur'), (7, 'pique'), (6, 'trèfle'), (6, 'carreau'), (6, 'cœur'), (6, 'pique'), (5, 'trèfle'), (5, 'carreau'), (5, 'cœur'), (5, 'pique'), (4, 'trèfle'), (4, 'carreau'), (4, 'cœur'), (4, 'pique'), (3, 'trèfle'), (3, 'carreau'), (3, 'cœur'), (3, 'pique'), (2, 'trèfle'), (2, 'carreau'), (2, 'cœur'), (2, 'pique'), (1, 'trèfle'), (1, 'carreau'), (1, 'cœur'), (1, 'pique')]\n"
          ]
        }
      ],
      "source": [
        "#sorted(student_tuples, key=lambda student: student[2])  expliquer utilisation de la fonction anonyme lambda dans sorted() https://docs.python.org/3/howto/sorting.html\n",
        "#trie par valeur dans un dictionnaire lien : https://www.datacamp.com/fr/tutorial/sort-a-dictionary-by-value-python\n",
        "sorted_symbols = {'trèfle':4,'carreau':3, 'cœur':2, 'pique':1 }\n",
        "\n",
        "def sorted_cards(cards):\n",
        "    #trie car valeur de chaque tuple card[0] , option reverse activée pour enversé du plus grand au plus petit\n",
        "    sortedcards = sorted(cards, key=lambda card: (card[0], sorted_symbols[card[1]]), reverse=True)\n",
        "    return sortedcards\n",
        "\n",
        "print(sorted_cards(cards))"
      ]
    },
    {
      "cell_type": "markdown",
      "metadata": {
        "id": "7Dnhrttd_eey"
      },
      "source": [
        "## Partie 2: une partie de poker\n",
        "\n",
        "Nous allons maintenant simuler un jeu de poker.\n",
        "\n",
        "Au poker, chaque joueur a cinq cartes et il s’agit d’obtenir la meilleure combinaison (main) parmi ces cinq cartes (tiré de la page [Poker](https://fr.wikipedia.org/wiki/Poker) de Wikipédia) :\n",
        "\n",
        "<table class=\"wikitable mw-collapsible mw-made-collapsible\" width=\"100%\">\n",
        "<caption>Combinaisons de cartes au poker</caption>\n",
        "<tbody><tr>\n",
        "<th colspan=\"2\" scope=\"col\">Combinaison\n",
        "</th>\n",
        "<th>Exemple\n",
        "</th>\n",
        "<th>Probabilité\n",
        "</th>\n",
        "<th>Appellation anglaise\n",
        "</th></tr>\n",
        "<tr>\n",
        "<th rowspan=\"\">Quinte flush royale\n",
        "</th>\n",
        "<td>Suite du 10 à l'as de même symbole\n",
        "</td>\n",
        "<td><b class=\"pokerhands\"><span class=\"playingcards hearts\" style=\"color:red\"><span class=\"cardranks\">10</span><span class=\"cardsuits\">♥</span></span>&nbsp;<span class=\"playingcards hearts\" style=\"color:red\"><span class=\"cardranks\">J</span><span class=\"cardsuits\">♥</span></span>&nbsp;<span class=\"playingcards hearts\" style=\"color:red\"><span class=\"cardranks\">Q</span><span class=\"cardsuits\">♥</span></span>&nbsp;<span class=\"playingcards hearts\" style=\"color:red\"><span class=\"cardranks\">K</span><span class=\"cardsuits\">♥</span></span>&nbsp;<span class=\"playingcards hearts\" style=\"color:red\"><span class=\"cardranks\">A</span><span class=\"cardsuits\">♥</span></span></b>\n",
        "</td>\n",
        "<td>&lt;0.01%\n",
        "</td>\n",
        "<td><i><span class=\"lang-en\" lang=\"en\">Royal flush</span></i>\n",
        "</td></tr>\n",
        "<tr>\n",
        "<th rowspan=\"\">Quinte flush\n",
        "</th>\n",
        "<td>Suite de même symbole\n",
        "</td>\n",
        "<td><b class=\"pokerhands\"><span class=\"playingcards hearts\" style=\"color:red\"><span class=\"cardranks\">4</span><span class=\"cardsuits\">♥</span></span>&nbsp;<span class=\"playingcards hearts\" style=\"color:red\"><span class=\"cardranks\">5</span><span class=\"cardsuits\">♥</span></span>&nbsp;<span class=\"playingcards hearts\" style=\"color:red\"><span class=\"cardranks\">6</span><span class=\"cardsuits\">♥</span></span>&nbsp;<span class=\"playingcards hearts\" style=\"color:red\"><span class=\"cardranks\">7</span><span class=\"cardsuits\">♥</span></span>&nbsp;<span class=\"playingcards hearts\" style=\"color:red\"><span class=\"cardranks\">8</span><span class=\"cardsuits\">♥</span></span></b>\n",
        "</td>\n",
        "<td>0.03%\n",
        "</td>\n",
        "<td><i><span class=\"lang-en\" lang=\"en\">Straight flush</span></i>\n",
        "</td></tr>\n",
        "<tr>\n",
        "<th rowspan=\"\">Carré\n",
        "</th>\n",
        "<td>Quatre cartes de même rang\n",
        "</td>\n",
        "<td><b class=\"pokerhands\"><span class=\"playingcards hearts\" style=\"color:red\"><span class=\"cardranks\">10</span><span class=\"cardsuits\">♥</span></span>&nbsp;<span class=\"playingcards spades\" style=\"color:black\"><span class=\"cardranks\">10</span><span class=\"cardsuits\">♠</span></span>&nbsp;<span class=\"playingcards diamonds\" style=\"color:red\"><span class=\"cardranks\">10</span><span class=\"cardsuits\">♦</span></span>&nbsp;<span class=\"playingcards clubs\" style=\"color:black\"><span class=\"cardranks\">10</span><span class=\"cardsuits\">♣</span></span>&nbsp;<span class=\"playingcards clubs\" style=\"color:black\"><span class=\"cardranks\">4</span><span class=\"cardsuits\">♣</span></span></b>\n",
        "</td>\n",
        "<td>0.17%\n",
        "</td>\n",
        "<td><i><span class=\"lang-en\" lang=\"en\">4-of-a-kind</span></i>\n",
        "</td></tr>\n",
        "<tr>\n",
        "<th rowspan=\"\">Full\n",
        "</th>\n",
        "<td>Trois cartes de même rang et une paire\n",
        "</td>\n",
        "<td><b class=\"pokerhands\"><span class=\"playingcards hearts\" style=\"color:red\"><span class=\"cardranks\">10</span><span class=\"cardsuits\">♥</span></span>&nbsp;<span class=\"playingcards spades\" style=\"color:black\"><span class=\"cardranks\">10</span><span class=\"cardsuits\">♠</span></span>&nbsp;<span class=\"playingcards diamonds\" style=\"color:red\"><span class=\"cardranks\">10</span><span class=\"cardsuits\">♦</span></span>&nbsp;<span class=\"playingcards clubs\" style=\"color:black\"><span class=\"cardranks\">4</span><span class=\"cardsuits\">♣</span></span>&nbsp;<span class=\"playingcards hearts\" style=\"color:red\"><span class=\"cardranks\">4</span><span class=\"cardsuits\">♥</span></span></b>\n",
        "</td>\n",
        "<td>2.60%\n",
        "</td>\n",
        "<td><i><span class=\"lang-en\" lang=\"en\">Full house</span></i>\n",
        "</td></tr>\n",
        "<tr>\n",
        "<th rowspan=\"\">Couleur\n",
        "</th>\n",
        "<td>Cinq cartes de même symbole\n",
        "</td>\n",
        "<td><b class=\"pokerhands\"><span class=\"playingcards hearts\" style=\"color:red\"><span class=\"cardranks\">10</span><span class=\"cardsuits\">♥</span></span>&nbsp;<span class=\"playingcards hearts\" style=\"color:red\"><span class=\"cardranks\">3</span><span class=\"cardsuits\">♥</span></span>&nbsp;<span class=\"playingcards hearts\" style=\"color:red\"><span class=\"cardranks\">6</span><span class=\"cardsuits\">♥</span></span>&nbsp;<span class=\"playingcards hearts\" style=\"color:red\"><span class=\"cardranks\">A</span><span class=\"cardsuits\">♥</span></span>&nbsp;<span class=\"playingcards hearts\" style=\"color:red\"><span class=\"cardranks\">9</span><span class=\"cardsuits\">♥</span></span></b>\n",
        "</td>\n",
        "<td>3.03%\n",
        "</td>\n",
        "<td><i><span class=\"lang-en\" lang=\"en\">Flush</span></i>\n",
        "</td></tr>\n",
        "<tr>\n",
        "<th rowspan=\"\">Suite / Quinte\n",
        "</th>\n",
        "<td>Suite de symboles différents\n",
        "</td>\n",
        "<td><b class=\"pokerhands\"><span class=\"playingcards clubs\" style=\"color:black\"><span class=\"cardranks\">4</span><span class=\"cardsuits\">♣</span></span>&nbsp;<span class=\"playingcards hearts\" style=\"color:red\"><span class=\"cardranks\">5</span><span class=\"cardsuits\">♥</span></span>&nbsp;<span class=\"playingcards spades\" style=\"color:black\"><span class=\"cardranks\">6</span><span class=\"cardsuits\">♠</span></span>&nbsp;<span class=\"playingcards hearts\" style=\"color:red\"><span class=\"cardranks\">7</span><span class=\"cardsuits\">♥</span></span>&nbsp;<span class=\"playingcards diamonds\" style=\"color:red\"><span class=\"cardranks\">8</span><span class=\"cardsuits\">♦</span></span></b>\n",
        "</td>\n",
        "<td>4.62%\n",
        "</td>\n",
        "<td><i><span class=\"lang-en\" lang=\"en\">Straight</span></i>\n",
        "</td></tr>\n",
        "<tr>\n",
        "<th rowspan=\"\">Brelan\n",
        "</th>\n",
        "<td>Trois cartes de même rang\n",
        "</td>\n",
        "<td><b class=\"pokerhands\"><span class=\"playingcards hearts\" style=\"color:red\"><span class=\"cardranks\">4</span><span class=\"cardsuits\">♥</span></span>&nbsp;<span class=\"playingcards diamonds\" style=\"color:red\"><span class=\"cardranks\">4</span><span class=\"cardsuits\">♦</span></span>&nbsp;<span class=\"playingcards clubs\" style=\"color:black\"><span class=\"cardranks\">4</span><span class=\"cardsuits\">♣</span></span>&nbsp;<span class=\"playingcards clubs\" style=\"color:black\"><span class=\"cardranks\">7</span><span class=\"cardsuits\">♣</span></span>&nbsp;<span class=\"playingcards hearts\" style=\"color:red\"><span class=\"cardranks\">K</span><span class=\"cardsuits\">♥</span></span></b>\n",
        "</td>\n",
        "<td>4.83%\n",
        "</td>\n",
        "<td><i><span class=\"lang-en\" lang=\"en\">3-of-a-kind</span></i>\n",
        "</td></tr>\n",
        "<tr>\n",
        "<th rowspan=\"\">Double paire\n",
        "</th>\n",
        "<td>Deux paires\n",
        "</td>\n",
        "<td><b class=\"pokerhands\"><span class=\"playingcards hearts\" style=\"color:red\"><span class=\"cardranks\">2</span><span class=\"cardsuits\">♥</span></span>&nbsp;<span class=\"playingcards diamonds\" style=\"color:red\"><span class=\"cardranks\">2</span><span class=\"cardsuits\">♦</span></span>&nbsp;<span class=\"playingcards spades\" style=\"color:black\"><span class=\"cardranks\">6</span><span class=\"cardsuits\">♠</span></span>&nbsp;<span class=\"playingcards clubs\" style=\"color:black\"><span class=\"cardranks\">6</span><span class=\"cardsuits\">♣</span></span>&nbsp;<span class=\"playingcards hearts\" style=\"color:red\"><span class=\"cardranks\">8</span><span class=\"cardsuits\">♥</span></span></b>\n",
        "</td>\n",
        "<td>23.5%\n",
        "</td>\n",
        "<td><i><span class=\"lang-en\" lang=\"en\">Two pair</span></i>\n",
        "</td></tr>\n",
        "<tr>\n",
        "<th rowspan=\"\">Paire\n",
        "</th>\n",
        "<td>Deux cartes de même rang\n",
        "</td>\n",
        "<td><b class=\"pokerhands\"><span class=\"playingcards spades\" style=\"color:black\"><span class=\"cardranks\">10</span><span class=\"cardsuits\">♠</span></span>&nbsp;<span class=\"playingcards diamonds\" style=\"color:red\"><span class=\"cardranks\">10</span><span class=\"cardsuits\">♦</span></span>&nbsp;<span class=\"playingcards hearts\" style=\"color:red\"><span class=\"cardranks\">6</span><span class=\"cardsuits\">♥</span></span>&nbsp;<span class=\"playingcards hearts\" style=\"color:red\"><span class=\"cardranks\">K</span><span class=\"cardsuits\">♥</span></span>&nbsp;<span class=\"playingcards diamonds\" style=\"color:red\"><span class=\"cardranks\">J</span><span class=\"cardsuits\">♦</span></span></b>\n",
        "</td>\n",
        "<td>43.8%\n",
        "</td>\n",
        "<td><i><span class=\"lang-en\" lang=\"en\">One pair</span></i>\n",
        "</td></tr>\n",
        "<tr>\n",
        "<th>Carte haute\n",
        "</th>\n",
        "<td>Carte la plus haute de la main\n",
        "</td>\n",
        "<td><b class=\"pokerhands\"><span class=\"playingcards spades\" style=\"color:black\"><span class=\"cardranks\">4</span><span class=\"cardsuits\">♠</span></span>&nbsp;<span class=\"playingcards clubs\" style=\"color:black\"><span class=\"cardranks\">7</span><span class=\"cardsuits\">♣</span></span>&nbsp;<span class=\"playingcards hearts\" style=\"color:red\"><span class=\"cardranks\">6</span><span class=\"cardsuits\">♥</span></span>&nbsp;<span class=\"playingcards hearts\" style=\"color:red\"><span class=\"cardranks\">A</span><span class=\"cardsuits\">♥</span></span>&nbsp;<span class=\"playingcards diamonds\" style=\"color:red\"><span class=\"cardranks\">2</span><span class=\"cardsuits\">♦</span></span></b>\n",
        "</td>\n",
        "<td>17.4%\n",
        "</td>\n",
        "<td><i><span class=\"lang-en\" lang=\"en\">High card</span></i>\n",
        "</td></tr></tbody></table>"
      ]
    },
    {
      "cell_type": "markdown",
      "metadata": {
        "id": "E8vpGiJs_eez"
      },
      "source": [
        "### Variables de test\n",
        "\n",
        "**QUESTION 6.** Produire un jeu de données de test `test` utilisant les conventions de la partie 1 pour représenter des cartes et contenant trois exemples distincts de chaque main, de la quinte flush royale à la carte haute.\n",
        "\n",
        "Ce jeu de test vous permettra à terme de vous convaincre que les fonctions des questions suivantes fonctionnent."
      ]
    },
    {
      "cell_type": "code",
      "execution_count": null,
      "metadata": {
        "id": "ar5rCBbE_eez"
      },
      "outputs": [],
      "source": [
        "royalflush1 = [(10, 'pique'), (11, 'pique'), (12, 'pique'), (13, 'pique'), (1, 'pique')]\n",
        "royalflush2 = [(10, 'cœur'), (11, 'cœur'), (12, 'cœur'), (13, 'cœur'), (1, 'cœur')]\n",
        "royalflush3 = [(10, 'carreau'), (11, 'carreau'), (12, 'carreau'), (13, 'carreau'), (1, 'carreau')]\n",
        "\n",
        "\n",
        "straightflush1 = [(6, 'trèfle'), (7, 'trèfle'), (8, 'trèfle'), (9, 'trèfle'), (10, 'trèfle')]\n",
        "straightflush2 = [(2, 'cœur'), (3, 'cœur'), (4, 'cœur'), (5, 'cœur'), (6, 'cœur')]\n",
        "straightflush3 = [(9, 'carreau'), (10, 'carreau'), (11, 'carreau'), (12, 'carreau'), (13, 'carreau')]\n",
        "\n",
        "fourkind1 = [(9, 'coeur'), (9, 'cœur'), (9, 'trèfle'), (9, 'carreau'), (2, 'coeur')]\n",
        "fourkind2 = [(13, 'coeur'), (13, 'cœur'), (13, 'trèfle'), (13, 'carreau'), (7, 'cœur')]\n",
        "fourkind3 = [(4, 'pique'), (4, 'coeur'), (4, 'trèfle'), (4, 'carreau'), (8, 'carreau')]\n",
        "\n",
        "fullhouse1 = [(7, 'pique'), (7, 'cœur'), (7, 'carreau'), (3, 'trèfle'), (3, 'cœur')]\n",
        "fullhouse2 = [(10, 'trèfle'), (10, '♦'), (10, 'pique'), (6, 'trèfle'), (6, 'pique')]\n",
        "fullhouse3 = [(1, 'pique'), (1, 'cœur'), (1, 'carreau'), (9, 'pique'), (9, 'carreau')]\n",
        "\n",
        "flush1 = [(2, 'pique'), (5, 'pique'), (9, 'pique'), (12, 'pique'), (7, 'pique')]\n",
        "flush2 = [(3, 'cœur'), (6, 'cœur'), (8, 'coeur'), (11, 'cœur'), (13, 'cœur')]\n",
        "flush3 = [(4, 'carreau'), (5, 'carreau'), (10, 'carreau'), (12, 'carreau'), (2, 'carreau')]\n",
        "\n",
        "straight1 = [(3, 'pique'), (4, 'coeur'), (5, 'trèfle'), (6, 'carreau'), (7, 'pique')]\n",
        "straight2 = [(10, 'pique'), (11, 'coeur'), (12, 'trèfle'), (13, 'carreau'), (1, 'pique')]\n",
        "straight3 = [(2, 'trèfle'), (3, 'pique'), (4, 'trèfle'), (5, 'carreau'), (6, 'trèfle')]\n",
        "\n",
        "threekind1 = [(8, 'pique'), (8, 'coeur'), (8, 'trèfle'), (4, 'carreau'), (10, 'pique')]\n",
        "threekind2 = [(12, 'trèfle'), (12, 'carreau'), (12, '♠'), (7, 'trèfle'), (2, 'carreau')]\n",
        "threekind3 = [(5, 'pique'), (5, 'coeur'), (5, 'carreau'), (9, 'trèfle'), (11, 'pique')]\n",
        "\n",
        "twopair1 = [(6, 'pique'), (6, 'coeur'), (9, 'trèfle'), (9, 'carreau'), (2, 'pique')]\n",
        "twopair2 = [(11, 'pique'), (11, 'coeur'), (3, 'trèfle'), (3, 'carreau'), (8, 'coeur')]\n",
        "twopair3 = [(7, 'pique'), (7, 'carreau'), (12, 'trèfle'), (12, 'coeur'), (5, 'pique')]\n",
        "\n",
        "onepair1 = [(4, 'pique'), (4, 'coeur'), (7, 'trèfle'), (9, 'carreau'), (10, 'pique')]\n",
        "onepair2 = [(1, 'pique'), (1, 'carreau'), (6, 'trèfle'), (3, 'coeur'), (8, 'pique')]\n",
        "onepair3 = [(13, 'pique'), (13, 'coeur'), (2, 'trèfle'), (5, 'carreau'), (11, 'pique')]\n",
        "\n",
        "highcard1 = [(2, 'pique'), (5, 'coeur'), (9, 'trèfle'), (11, 'carreau'), (13, 'pique')]\n",
        "highcard2 = [(3, 'pique'), (6, 'coeur'), (8, 'trèfle'), (12, 'carreau'), (1, 'pique')]\n",
        "highcard3 = [(4, 'pique'), (7, 'coeur'), (10, 'trèfle'), (11, 'carreau'), (2, 'pique')]\n",
        "\n",
        "test = [royalflush1, royalflush2,royalflush3,,straitghtflush1,straightflush2,straightflush3,fourkind1,fourkind2,fourkind3,fullhouse1,fullhouse2,fullhouse3,flush1,flush2,flush3,straight1,straight2,straight3,threekind1,threekind2,threekind3,twopair1,twopair2,twopair3,onepair1,onepair2,onepair3,highcard1,highcard2,highcard3]"
      ]
    },
    {
      "cell_type": "markdown",
      "metadata": {
        "id": "8DMgmmcI_ee0"
      },
      "source": [
        "### Fonctions de soutien\n",
        "\n",
        "Pour nous simplifier la vie par la suite, nous allons écrire dans un premier temps cinq fonctions de soutien qui renvoit chacune un booléen.  Ces fonctions seront ensuite utilisées pour déterminer quel [niveau de main](https://fr.wikipedia.org/wiki/Main_au_poker) peut être obtenu.\n",
        "\n",
        "Écrire des fonctions de ce genre permet d'éviter les bugs : il est plus facile de vérifier le code de plusieurs petites fonctions que d’une grande !\n",
        "\n",
        "**QUESTION 7a.** Écrivez une fonction `is_four_of_a_kind()` qui prend en entrée des cartes (la variable `cards` par exemple) et renvoie `True` si et seulement si elle contient un carré et `False` sinon. (Documentez en une ligne.)"
      ]
    },
    {
      "cell_type": "code",
      "execution_count": null,
      "metadata": {
        "id": "glhd2M57_ee1"
      },
      "outputs": [],
      "source": [
        "def is_four_of_a_kind():\n",
        "    \"\"\"Renvoie True si cards contient un carré (4 cartes de même valeur), False sinon.\"\"\"\n",
        "    # O\n",
        "    counts = {}\n",
        "    for value, suit in cards:\n",
        "        counts[value] = counts.get(value, 0) + 1\n",
        "\n",
        "    # Vérifier s'il y a une valeur apparaissant 4 fois\n",
        "    return 4 in counts.values()\n",
        "\n"
      ]
    },
    {
      "cell_type": "markdown",
      "metadata": {
        "id": "RTeCJCth_ee1"
      },
      "source": [
        "**QUESTION 7b.** Écrivez une fonction `is_full_house()` qui renvoie `True` si et seulement si elle contient un full house et `False` sinon. (Documentez en une ligne.)"
      ]
    },
    {
      "cell_type": "code",
      "execution_count": null,
      "metadata": {
        "id": "Fp7JqwfO_ee2"
      },
      "outputs": [],
      "source": [
        "def is_full_house():\n",
        "    #Renvoie True si la main contient un carré (4 cartes de même valeur), False sinon.\n",
        "\n",
        "    counts = {}\n",
        "    for value, suit in cards:\n",
        "        if value in counts:\n",
        "            counts[value] += 1\n",
        "        else:\n",
        "            counts[value] = 1\n",
        "\n",
        "    return 4 in counts.values()\n",
        "\n"
      ]
    },
    {
      "cell_type": "markdown",
      "metadata": {
        "id": "wh0CcrRg_ee2"
      },
      "source": [
        "**QUESTION 7c.** Écrivez une fonction `is_flush()` qui renvoie `True` si et seulement si elle contient une couleur et `False` sinon. (Documentez en une ligne.)"
      ]
    },
    {
      "cell_type": "code",
      "execution_count": null,
      "metadata": {
        "id": "2Qp7cSM__ee3"
      },
      "outputs": [],
      "source": [
        "def is_flush():\n"
      ]
    },
    {
      "cell_type": "markdown",
      "metadata": {
        "id": "S8eB1RPX_ee3"
      },
      "source": [
        "**QUESTION 7d.** Écrivez une fonction `is_three_of_a_kind()` qui renvoie `True` si et seulement si elle contient un brelan et `False` sinon. (Documentez en une ligne.)"
      ]
    },
    {
      "cell_type": "code",
      "execution_count": null,
      "metadata": {
        "id": "gMrViM9X_ee4"
      },
      "outputs": [],
      "source": [
        "def is_three_of_a_kind():\n"
      ]
    },
    {
      "cell_type": "markdown",
      "metadata": {
        "id": "CAutcdBr_ee5"
      },
      "source": [
        "**QUESTION 7e.** Écrivez une fonction `is_pair()` qui renvoie `True` si et seulement si elle contient une paire et `False` sinon. (Documentez en une ligne.)"
      ]
    },
    {
      "cell_type": "code",
      "execution_count": null,
      "metadata": {
        "id": "sazVjZGG_ee5"
      },
      "outputs": [],
      "source": [
        "def is_pair():\n"
      ]
    },
    {
      "cell_type": "markdown",
      "metadata": {
        "id": "3dnRdkHw_ee7"
      },
      "source": [
        "### Meilleure main\n",
        "\n",
        "**QUESTION 8a.** Écrivez une fonction `best_hand()` qui, étant données cinq cartes `cards`, renvoie la meilleure main obtenue parmi les cinq décrites plus haut. Si aucune des combinaisons n’est trouvée, il faudra renvoyer `None`. Cette fonction devra être documentée complètement et faire appel aux fonctions de soutien écrites plus haut.\n",
        "\n",
        "Exemples :\n",
        "\n",
        "* Si les cinq cartes sont as coeur, 2 de pique, as de carreau, 2 de trèfle et 2 de cœur, la fonction doit renvoyer la chaîne de caractères `'full-house'` (et non brelan ou paire, car le full house est plus fort)\n",
        "\n",
        "* Si les cinq cartes sont as de cœur, roi de pique, 2 de pique, 5 de cœur et 7 de carreau, la fonction doit renvoyer `None`."
      ]
    },
    {
      "cell_type": "code",
      "execution_count": null,
      "metadata": {
        "id": "d8Y5WCA3_ee8"
      },
      "outputs": [],
      "source": [
        "def best_hand():\n"
      ]
    },
    {
      "cell_type": "markdown",
      "metadata": {
        "id": "-n5oo69b_ee9"
      },
      "source": [
        "**QUESTION 8b.** Testez `best_hand()` sur le jeu de test de la question 6 et concluez."
      ]
    },
    {
      "cell_type": "code",
      "execution_count": null,
      "metadata": {
        "id": "UZvRnXo6_ee-"
      },
      "outputs": [],
      "source": [
        "# Votre code ici"
      ]
    },
    {
      "cell_type": "markdown",
      "metadata": {
        "id": "zgobZ4lw_ee_"
      },
      "source": [
        "*Votre réponse ici*"
      ]
    },
    {
      "cell_type": "markdown",
      "metadata": {
        "id": "0NtwFKJg_efA"
      },
      "source": [
        "### Simulation de jeu\n",
        "\n",
        "**QUESTION 9a.**\n",
        "\n",
        "* Écrivez une fonction `simulate_poker()` qui tire $n$ fois de suite 5 cartes et renvoie un dictionnaire contenant le nombre d'occurrences de chaque main sur les $n$ tirages. Cette fonction devra être documentée complètement.\n",
        "\n",
        "* Fixez $n = 1000 $ et affichez le dictionnaire obtenu. Par exemple, si on a obtenu 1 carrés, 2 full houses, 2 couleurs, 21 brelans, et 431 paires, on devra afficher quelque chose comme:\n",
        "\n",
        "```Python\n",
        "{'four_of_a_kind': 1, 'full_house': 2, 'flush': 2, 'three_of_a_kind': 21, 'one_pair': 431}\n",
        "```"
      ]
    },
    {
      "cell_type": "code",
      "execution_count": null,
      "metadata": {
        "id": "MioTspV-_efB"
      },
      "outputs": [],
      "source": [
        "def simulate_poker():\n"
      ]
    },
    {
      "cell_type": "code",
      "execution_count": null,
      "metadata": {
        "id": "eINxMqGj_efC"
      },
      "outputs": [],
      "source": [
        "# Votre code ici"
      ]
    },
    {
      "cell_type": "markdown",
      "metadata": {
        "id": "O9peJdrs_efD"
      },
      "source": [
        "**QUESTION 9b.** Comparer ces statistiques aux probabilités indiquées dans le tableau vu au début de la partie 2."
      ]
    },
    {
      "cell_type": "code",
      "execution_count": null,
      "metadata": {
        "id": "iX6yBb55_efF"
      },
      "outputs": [],
      "source": [
        "# Votre code ici"
      ]
    },
    {
      "cell_type": "markdown",
      "metadata": {
        "id": "YZOTTHpe_efF"
      },
      "source": [
        "*Votre réponse ici.*"
      ]
    }
  ],
  "metadata": {
    "colab": {
      "provenance": []
    },
    "kernelspec": {
      "display_name": "Python 3 (ipykernel)",
      "language": "python",
      "name": "python3"
    },
    "language_info": {
      "codemirror_mode": {
        "name": "ipython",
        "version": 3
      },
      "file_extension": ".py",
      "mimetype": "text/x-python",
      "name": "python",
      "nbconvert_exporter": "python",
      "pygments_lexer": "ipython3",
      "version": "3.12.3"
    }
  },
  "nbformat": 4,
  "nbformat_minor": 0
}